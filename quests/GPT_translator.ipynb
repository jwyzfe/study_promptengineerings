{
 "cells": [
  {
   "cell_type": "code",
   "execution_count": null,
   "metadata": {
    "vscode": {
     "languageId": "plaintext"
    }
   },
   "outputs": [],
   "source": [
    "if 문장 한국어\n",
    "    결과 출력\n",
    "else\n",
    "    한국어아님\n",
    "\n",
    "- 역할과 출력 지정\n",
    "너는 언어 번역 전문이며, 반환 결과는 반드시 JSON 데이터로 작성\n",
    "    STEP 순서 맞게 작업 수행하고 결과는 아래 JSON 포맷으로 작성\n",
    "    + STEP-1. 텍스트를 원문 그대로 읽어옴\n",
    "    + STEP-2. 입력된 텍스트가 한국어라면 그대로 변역 결과 출력 한국어가 아니라면 STEP-3 진행 \n",
    "    + STEP-3. 한국어가 아닌 문장을 한국어 번역 할것\n",
    "    \n",
    "{text}\n",
    "\n",
    "    ---\n",
    "    결과 : {{STEP-1 : <입력텍스트>,\n",
    "            STEP-2 : <true/false>,\n",
    "            STEP-3 : <번역 결과>}}\n"
   ]
  }
 ],
 "metadata": {
  "language_info": {
   "name": "python"
  }
 },
 "nbformat": 4,
 "nbformat_minor": 2
}
