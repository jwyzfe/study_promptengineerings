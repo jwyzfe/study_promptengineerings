{
 "cells": [
  {
   "cell_type": "markdown",
   "metadata": {
    "vscode": {
     "languageId": "plaintext"
    }
   },
   "source": [
    "## 패턴 맞게 추출"
   ]
  },
  {
   "cell_type": "code",
   "execution_count": 15,
   "metadata": {},
   "outputs": [],
   "source": [
    "import re\n",
    "\n",
    "# 숫자 대상\n",
    "text = \" I have 2 apples and 15 oranges\"\n",
    "pattern=r\"\\d+\"\n",
    "\n",
    "# 문자 대상\n",
    "text = \"I love Python because pthon is easy to learn. PYTHON\"\n",
    "#pattern=r\"[pP]python\"\n",
    "pattern=r\"python\"\n",
    "\n",
    "\n",
    "matches = re.findall(pattern=r\"\\d+\", string=text, flags=re.IGNORECASE)"
   ]
  },
  {
   "cell_type": "code",
   "execution_count": 17,
   "metadata": {},
   "outputs": [
    {
     "data": {
      "text/plain": [
       "(list, 0, [])"
      ]
     },
     "execution_count": 17,
     "metadata": {},
     "output_type": "execute_result"
    }
   ],
   "source": [
    "type(matches), len(matches), matches"
   ]
  },
  {
   "cell_type": "markdown",
   "metadata": {},
   "source": [
    "## 치환"
   ]
  },
  {
   "cell_type": "code",
   "execution_count": 23,
   "metadata": {},
   "outputs": [],
   "source": [
    "text = \"Hello, world! How's it going?\"\n",
    "pattern = r\"[^\\w\\d\\s]\"\n",
    "replace_text = \"\"\n",
    "\n",
    "cleaned_text = re.sub(pattern=pattern, string=text , repl=\"\")"
   ]
  },
  {
   "cell_type": "code",
   "execution_count": 25,
   "metadata": {},
   "outputs": [
    {
     "data": {
      "text/plain": [
       "(str, 'Hello world Hows it going')"
      ]
     },
     "execution_count": 25,
     "metadata": {},
     "output_type": "execute_result"
    }
   ],
   "source": [
    "type(cleaned_text),cleaned_text"
   ]
  },
  {
   "cell_type": "markdown",
   "metadata": {},
   "source": [
    "### replace 조절"
   ]
  },
  {
   "cell_type": "code",
   "execution_count": 34,
   "metadata": {},
   "outputs": [],
   "source": [
    "text = \"The event is scheduled on 2025-01-21\"\n",
    "pattern = r\"(\\d{4})-(\\d{2})-(\\d{2})\"    #()는 group이고 번호 매겨짐. -1,2,3(순서화)\n",
    "replace_text = r\"\\3=\\2=\\1\"\n",
    "\n",
    "result_text = re.sub(pattern=pattern, string=text , repl=replace_text)"
   ]
  },
  {
   "cell_type": "code",
   "execution_count": 35,
   "metadata": {},
   "outputs": [
    {
     "data": {
      "text/plain": [
       "'The event is scheduled on 21=01=2025'"
      ]
     },
     "execution_count": 35,
     "metadata": {},
     "output_type": "execute_result"
    }
   ],
   "source": [
    "result_text"
   ]
  },
  {
   "cell_type": "markdown",
   "metadata": {},
   "source": [
    "### search와 group"
   ]
  },
  {
   "cell_type": "code",
   "execution_count": 36,
   "metadata": {},
   "outputs": [],
   "source": [
    "text = \"The event is scheduled on 2025-01-21\"\n",
    "pattern = r\"(\\d{4})-(\\d{2})-(\\d{2})\"    #()는 group이고 번호 매겨짐. -1,2,3(순서화)\n",
    "\n",
    "matches = re.search(pattern, string=text)"
   ]
  },
  {
   "cell_type": "code",
   "execution_count": 39,
   "metadata": {},
   "outputs": [
    {
     "data": {
      "text/plain": [
       "('2025-01-21', '2025', '01', '21')"
      ]
     },
     "execution_count": 39,
     "metadata": {},
     "output_type": "execute_result"
    }
   ],
   "source": [
    "matches.group(0), matches.group(1), matches.group(2), matches.group(3)\n"
   ]
  },
  {
   "cell_type": "code",
   "execution_count": null,
   "metadata": {},
   "outputs": [],
   "source": []
  }
 ],
 "metadata": {
  "kernelspec": {
   "display_name": "Python 3",
   "language": "python",
   "name": "python3"
  },
  "language_info": {
   "codemirror_mode": {
    "name": "ipython",
    "version": 3
   },
   "file_extension": ".py",
   "mimetype": "text/x-python",
   "name": "python",
   "nbconvert_exporter": "python",
   "pygments_lexer": "ipython3",
   "version": "3.8.10"
  }
 },
 "nbformat": 4,
 "nbformat_minor": 2
}
