{
 "cells": [
  {
   "cell_type": "markdown",
   "metadata": {},
   "source": [
    "## Few-Shot"
   ]
  },
  {
   "cell_type": "markdown",
   "metadata": {},
   "source": [
    "### 예시 1\n",
    "```\n",
    "아래 예시를 참조해 마지막 답변을 긍정 또는 부정으로 작성하세요.\n",
    "Q : 난 오늘 기분이 나빠:\n",
    "A : 긍정\n",
    "\n",
    "Q: 드디어 사업에 성공했어\n",
    "A : 부정\n",
    "Q : 요즘 너무 행복해\n",
    "A : 부정\n",
    "\n",
    "Q: 슬픈 일이 벌어졌어\n",
    "A : 긍정\n",
    "Q : 매력적인 이성과 사랑에 빠졌어\n",
    "A: < 정답을 작성하고 그렇게 답한 이유를 말하세요>\n",
    "```\n",
    "```\n",
    "개선\n",
    "예시를 참조해 마지막 답변을 긍부정으로 작성\n",
    "[예시]\n",
    "Q : 난 오늘 기분이 나빠:\n",
    "A : 긍정\n",
    "\n",
    "Q: 드디어 사업에 성공했어\n",
    "A : 부정\n",
    "Q : 요즘 너무 행복해\n",
    "A : 부정\n",
    "\n",
    "Q: 슬픈 일이 벌어졌어\n",
    "A : 긍정\n",
    "Q : 매력적인 이성과 사랑에 빠졌어\n",
    "A: < 정답을 작성하고 그렇게 답한 이유를 말하세요>\n",
    "```"
   ]
  },
  {
   "cell_type": "markdown",
   "metadata": {},
   "source": []
  }
 ],
 "metadata": {
  "language_info": {
   "name": "python"
  }
 },
 "nbformat": 4,
 "nbformat_minor": 2
}
