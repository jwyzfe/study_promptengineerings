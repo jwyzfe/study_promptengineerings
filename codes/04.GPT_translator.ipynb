{
 "cells": [
  {
   "cell_type": "markdown",
   "metadata": {},
   "source": [
    "## GPT app 작성 : 번역 기능\n",
    "- 영문 -> 한국어 번역"
   ]
  },
  {
   "cell_type": "markdown",
   "metadata": {},
   "source": [
    "## 대상 문장\n",
    "```\n",
    "William Shakespeare was an English playwright, poet and actor. He is widely regarded as the greatest writer in the English language and the world's pre-eminent dramatist.\n",
    "```"
   ]
  },
  {
   "cell_type": "markdown",
   "metadata": {},
   "source": []
  },
  {
   "cell_type": "markdown",
   "metadata": {},
   "source": [
    "## 프롬프트 지시 방식 (CoT 방식 사용)\n",
    "- 역할 지정 : 특정 직군, 연령, 업무 지정\n",
    "- 순서 지정 : 업무 처리 순서를 만듦 - > 패턴화 한 코드 flow 작성\n",
    "- 출력 지정 : 문장, 코드, 이미지 등 형식 지정"
   ]
  },
  {
   "cell_type": "markdown",
   "metadata": {},
   "source": [
    "if 문장 영문\n",
    "    한글 번역\n",
    "else\n",
    "    영문 아님\n",
    "\n",
    "- 역할과 출력 지정\n",
    "너는 번역 전문이며, 반환 결과는 반드시 JSON 데이터로 작성\n",
    "- 순서 지정\n",
    "    STEP 순서 맞게 작업 수행하고 결과는 아래 JSON 포맷으로 작성\n",
    "    + STEP-1. 텍스트를 원문 그대로 읽어옴\n",
    "    + STEP-2. 입력된 텍스트를 영어가 아니라면 false로 표기하고 종료 영어면 STEP-3 진행\n",
    "    + STEP-3. 다음 말투 번역할 것 : [\"지구 나이는 45억 살 입니다.\"]\n",
    "    ```{text}```\n",
    "    ---\n",
    "    결과 : {{STEP-1 : <입력텍스트>,\n",
    "            STEP-2 : <true/false>,\n",
    "            STEP-3 : <번역 결과>}}"
   ]
  }
 ],
 "metadata": {
  "language_info": {
   "name": "python"
  }
 },
 "nbformat": 4,
 "nbformat_minor": 2
}
