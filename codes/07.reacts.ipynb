{
 "cells": [
  {
   "cell_type": "markdown",
   "metadata": {
    "vscode": {
     "languageId": "bat"
    }
   },
   "source": [
    "## ReAct(Reasoning and Acting)\n",
    "- 추론과 행동을 수행하는 방식이 있다\n",
    "\n",
    "- Thought\n",
    "- Action\n",
    "- Observation\n"
   ]
  },
  {
   "cell_type": "markdown",
   "metadata": {
    "vscode": {
     "languageId": "plaintext"
    }
   },
   "source": [
    "### 예제 1\n",
    "```\n",
    "Thought, Action, Observation 단계를 번갈아 가며 질문에 대한 답변으로 <과제> 해결\n",
    "1. Thought: 현재 상황에 대한 추론\n",
    "2. Action:\n",
    "    -  Search[keyword]: <도구상자/>에서 도구 하나를 꺼내서 keyword 검색\n",
    "    -  Finish: {\"해결책\": <해결책을 단답형으로 제시하고 작업을 완료>}\n",
    "3. Observation: 도구를 사용한 결과를 객관적으로 관찰\n",
    "---\n",
    "<도구상자>\n",
    "   - 온도 검색[도시명] : {\"서울\":20.1, \"자카르타\":32.1, \"헬싱키\" -1},\n",
    "   - 입을 옷 검색[더운 날씨, 선선한 날씨, 추운 날씨 등]: {\"더운 날씨\":\"반팔 티셔츠\", \"선선한 날씨\": \"긴팔 티셔츠\", \"추운 날씨\": \"패딩\"}\n",
    "</도구상자>\n",
    "---\n",
    "<출력포맷>\n",
    "    매회차별 1-SET, 2-SET, ... ,N-SET로 표기할 것.\n",
    "    <샘플>\n",
    "        1-SET\n",
    "            - Thought: 매회차별 해야 할 일을 \"000을 해야 한다\" 형식으로 기술\n",
    "            - Action: 인터넷 검색[\"대한민국\"]\n",
    "            - Observation: {\"대한민국\":\"서울\"}\n",
    "    </샘플>\n",
    "</출력포맷>\n",
    "```"
   ]
  },
  {
   "cell_type": "code",
   "execution_count": null,
   "metadata": {
    "vscode": {
     "languageId": "plaintext"
    }
   },
   "outputs": [],
   "source": []
  }
 ],
 "metadata": {
  "language_info": {
   "name": "python"
  }
 },
 "nbformat": 4,
 "nbformat_minor": 2
}
