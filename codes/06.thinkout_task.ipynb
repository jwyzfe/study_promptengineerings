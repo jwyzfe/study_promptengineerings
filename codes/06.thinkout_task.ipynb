{
 "cells": [
  {
   "cell_type": "markdown",
   "metadata": {},
   "source": [
    "## Think out Task\n",
    "- 업무를 패턴으로 나누어 쪼개어 해결"
   ]
  },
  {
   "cell_type": "markdown",
   "metadata": {},
   "source": [
    "### 예제 1\n",
    "- https://github.com/minji337/jjinchin/blob/pub-2/contents/chapter05/tot.py\n",
    "```\n",
    "{agenda}에 대해 논의 중입니다.\n",
    "```\n",
    "[이전 의견]:\n",
    "{selected}\n",
    "```\n",
    "[이전 의견]에 대한 구체적이며 실질적인 구현 방안을 아래 JSON 형식으로 답하세요.\n",
    "{{\n",
    "    \"주제\": <주제>\n",
    "    \"구현\": <50단어 이내로 작성하세요>,\n",
    "    \"근거\": <[이전 의견]의 어떤 대목에서 그렇게 생각했는지>\n",
    " }}\n",
    "{agenda}에 대해 논의하고 있습니다.\n",
    "```\n",
    "[의견]:\n",
    "{thought}\n",
    "```\n",
    "위의 [의견]을 아래 JSON 형식으로 평가하세요.\n",
    "{{\n",
    "    \"창의적이고 혁신적인 방법인가\": <15점 만점 기준 점수>,\n",
    "    \"단기간 내에 실현 가능한 방법인지\": <10점 만점 기준 점수>,\n",
    "    \"총점\": <총점>\n",
    "}}\n",
    "\n",
    "agenda = \"\"\"\n",
    "'인공지능이 인간의 일자리를 위협합니다. 이에 대한 대응 방안을 논의합니다.'\n",
    "\"\"\"\n",
    "\n",
    "```"
   ]
  },
  {
   "cell_type": "markdown",
   "metadata": {},
   "source": []
  }
 ],
 "metadata": {
  "language_info": {
   "name": "python"
  }
 },
 "nbformat": 4,
 "nbformat_minor": 2
}
